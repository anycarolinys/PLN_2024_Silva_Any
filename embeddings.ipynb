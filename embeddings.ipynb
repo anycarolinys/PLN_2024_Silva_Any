{
 "cells": [
  {
   "cell_type": "markdown",
   "metadata": {},
   "source": [
    "## **Tratamento do Conjunto de Dados** "
   ]
  },
  {
   "cell_type": "code",
   "execution_count": 2,
   "metadata": {},
   "outputs": [],
   "source": [
    "import pandas as pd"
   ]
  },
  {
   "cell_type": "markdown",
   "metadata": {},
   "source": [
    "> Carregando o conjunto de dados como um DataFrame Pandas."
   ]
  },
  {
   "cell_type": "code",
   "execution_count": 3,
   "metadata": {},
   "outputs": [],
   "source": [
    "df = pd.read_csv('data\\Dados-Abertos.csv', delimiter=';', encoding='latin-1')"
   ]
  },
  {
   "cell_type": "code",
   "execution_count": 4,
   "metadata": {},
   "outputs": [
    {
     "data": {
      "text/html": [
       "<div>\n",
       "<style scoped>\n",
       "    .dataframe tbody tr th:only-of-type {\n",
       "        vertical-align: middle;\n",
       "    }\n",
       "\n",
       "    .dataframe tbody tr th {\n",
       "        vertical-align: top;\n",
       "    }\n",
       "\n",
       "    .dataframe thead th {\n",
       "        text-align: right;\n",
       "    }\n",
       "</style>\n",
       "<table border=\"1\" class=\"dataframe\">\n",
       "  <thead>\n",
       "    <tr style=\"text-align: right;\">\n",
       "      <th></th>\n",
       "      <th>Nome Ente</th>\n",
       "      <th>UF</th>\n",
       "      <th>Código Siafi</th>\n",
       "      <th>Código IBGE</th>\n",
       "      <th>Data</th>\n",
       "      <th>Ano</th>\n",
       "      <th>Mês</th>\n",
       "      <th>Tipo Ente</th>\n",
       "      <th>OB</th>\n",
       "      <th>CNPJ do Favorecido</th>\n",
       "      <th>Nome Favorecido</th>\n",
       "      <th>Nome Emenda</th>\n",
       "      <th>Transferência Especial</th>\n",
       "      <th>Categoria Econômica Despesa</th>\n",
       "      <th>Valor</th>\n",
       "    </tr>\n",
       "  </thead>\n",
       "  <tbody>\n",
       "    <tr>\n",
       "      <th>0</th>\n",
       "      <td>Nova Santa Rosa</td>\n",
       "      <td>PR</td>\n",
       "      <td>7979</td>\n",
       "      <td>4117222</td>\n",
       "      <td>42005</td>\n",
       "      <td>2015</td>\n",
       "      <td>janeiro</td>\n",
       "      <td>Município</td>\n",
       "      <td>135098000012015OB800001</td>\n",
       "      <td>77116663000109</td>\n",
       "      <td>MUNICIPIO DE NOVA SANTA ROSA</td>\n",
       "      <td>Emenda Individual</td>\n",
       "      <td>Não</td>\n",
       "      <td>DESPESAS DE CAPITAL</td>\n",
       "      <td>243750</td>\n",
       "    </tr>\n",
       "    <tr>\n",
       "      <th>1</th>\n",
       "      <td>Humaitá</td>\n",
       "      <td>RS</td>\n",
       "      <td>8695</td>\n",
       "      <td>4309704</td>\n",
       "      <td>42005</td>\n",
       "      <td>2015</td>\n",
       "      <td>janeiro</td>\n",
       "      <td>Município</td>\n",
       "      <td>135098000012015OB800002</td>\n",
       "      <td>87613139000199</td>\n",
       "      <td>MUNICIPIO DE HUMAITA</td>\n",
       "      <td>Emenda Individual</td>\n",
       "      <td>Não</td>\n",
       "      <td>DESPESAS DE CAPITAL</td>\n",
       "      <td>144300</td>\n",
       "    </tr>\n",
       "    <tr>\n",
       "      <th>2</th>\n",
       "      <td>Nova Venécia</td>\n",
       "      <td>ES</td>\n",
       "      <td>5677</td>\n",
       "      <td>3203908</td>\n",
       "      <td>42005</td>\n",
       "      <td>2015</td>\n",
       "      <td>janeiro</td>\n",
       "      <td>Município</td>\n",
       "      <td>135098000012015OB800003</td>\n",
       "      <td>27167428000180</td>\n",
       "      <td>MUNICIPIO DE NOVA VENECIA</td>\n",
       "      <td>Emenda Individual</td>\n",
       "      <td>Não</td>\n",
       "      <td>DESPESAS DE CAPITAL</td>\n",
       "      <td>97500</td>\n",
       "    </tr>\n",
       "    <tr>\n",
       "      <th>3</th>\n",
       "      <td>Gravatal</td>\n",
       "      <td>SC</td>\n",
       "      <td>8121</td>\n",
       "      <td>4206207</td>\n",
       "      <td>42005</td>\n",
       "      <td>2015</td>\n",
       "      <td>janeiro</td>\n",
       "      <td>Município</td>\n",
       "      <td>135098000012015OB800004</td>\n",
       "      <td>82926569000147</td>\n",
       "      <td>MUNICIPIO DE GRAVATAL</td>\n",
       "      <td>Emenda Individual</td>\n",
       "      <td>Não</td>\n",
       "      <td>DESPESAS DE CAPITAL</td>\n",
       "      <td>195000</td>\n",
       "    </tr>\n",
       "    <tr>\n",
       "      <th>4</th>\n",
       "      <td>Passo de Torres</td>\n",
       "      <td>SC</td>\n",
       "      <td>5541</td>\n",
       "      <td>4212254</td>\n",
       "      <td>42005</td>\n",
       "      <td>2015</td>\n",
       "      <td>janeiro</td>\n",
       "      <td>Município</td>\n",
       "      <td>135098000012015OB800005</td>\n",
       "      <td>95782793000154</td>\n",
       "      <td>MUNICIPIO DE PASSO DE TORRES</td>\n",
       "      <td>Emenda Individual</td>\n",
       "      <td>Não</td>\n",
       "      <td>DESPESAS DE CAPITAL</td>\n",
       "      <td>97500</td>\n",
       "    </tr>\n",
       "  </tbody>\n",
       "</table>\n",
       "</div>"
      ],
      "text/plain": [
       "         Nome Ente  UF Código Siafi  Código IBGE   Data   Ano      Mês  \\\n",
       "0  Nova Santa Rosa  PR         7979      4117222  42005  2015  janeiro   \n",
       "1          Humaitá  RS         8695      4309704  42005  2015  janeiro   \n",
       "2     Nova Venécia  ES         5677      3203908  42005  2015  janeiro   \n",
       "3         Gravatal  SC         8121      4206207  42005  2015  janeiro   \n",
       "4  Passo de Torres  SC         5541      4212254  42005  2015  janeiro   \n",
       "\n",
       "   Tipo Ente                       OB  CNPJ do Favorecido  \\\n",
       "0  Município  135098000012015OB800001      77116663000109   \n",
       "1  Município  135098000012015OB800002      87613139000199   \n",
       "2  Município  135098000012015OB800003      27167428000180   \n",
       "3  Município  135098000012015OB800004      82926569000147   \n",
       "4  Município  135098000012015OB800005      95782793000154   \n",
       "\n",
       "                Nome Favorecido        Nome Emenda Transferência Especial  \\\n",
       "0  MUNICIPIO DE NOVA SANTA ROSA  Emenda Individual                    Não   \n",
       "1          MUNICIPIO DE HUMAITA  Emenda Individual                    Não   \n",
       "2     MUNICIPIO DE NOVA VENECIA  Emenda Individual                    Não   \n",
       "3         MUNICIPIO DE GRAVATAL  Emenda Individual                    Não   \n",
       "4  MUNICIPIO DE PASSO DE TORRES  Emenda Individual                    Não   \n",
       "\n",
       "  Categoria Econômica Despesa   Valor  \n",
       "0         DESPESAS DE CAPITAL  243750  \n",
       "1         DESPESAS DE CAPITAL  144300  \n",
       "2         DESPESAS DE CAPITAL   97500  \n",
       "3         DESPESAS DE CAPITAL  195000  \n",
       "4         DESPESAS DE CAPITAL   97500  "
      ]
     },
     "execution_count": 4,
     "metadata": {},
     "output_type": "execute_result"
    }
   ],
   "source": [
    "df.head()"
   ]
  },
  {
   "cell_type": "code",
   "execution_count": 5,
   "metadata": {},
   "outputs": [
    {
     "data": {
      "text/plain": [
       "Nome Ente                      object\n",
       "UF                             object\n",
       "Código Siafi                   object\n",
       "Código IBGE                     int64\n",
       "Data                            int64\n",
       "Ano                             int64\n",
       "Mês                            object\n",
       "Tipo Ente                      object\n",
       "OB                             object\n",
       "CNPJ do Favorecido              int64\n",
       "Nome Favorecido                object\n",
       "Nome Emenda                    object\n",
       "Transferência Especial         object\n",
       "Categoria Econômica Despesa    object\n",
       "Valor                          object\n",
       "dtype: object"
      ]
     },
     "execution_count": 5,
     "metadata": {},
     "output_type": "execute_result"
    }
   ],
   "source": [
    "df.dtypes"
   ]
  },
  {
   "cell_type": "code",
   "execution_count": 6,
   "metadata": {},
   "outputs": [
    {
     "data": {
      "text/html": [
       "<div>\n",
       "<style scoped>\n",
       "    .dataframe tbody tr th:only-of-type {\n",
       "        vertical-align: middle;\n",
       "    }\n",
       "\n",
       "    .dataframe tbody tr th {\n",
       "        vertical-align: top;\n",
       "    }\n",
       "\n",
       "    .dataframe thead th {\n",
       "        text-align: right;\n",
       "    }\n",
       "</style>\n",
       "<table border=\"1\" class=\"dataframe\">\n",
       "  <thead>\n",
       "    <tr style=\"text-align: right;\">\n",
       "      <th></th>\n",
       "      <th>Nome Ente</th>\n",
       "      <th>UF</th>\n",
       "      <th>Código Siafi</th>\n",
       "      <th>Código IBGE</th>\n",
       "      <th>Data</th>\n",
       "      <th>Ano</th>\n",
       "      <th>Mês</th>\n",
       "      <th>Tipo Ente</th>\n",
       "      <th>OB</th>\n",
       "      <th>CNPJ do Favorecido</th>\n",
       "      <th>Nome Favorecido</th>\n",
       "      <th>Nome Emenda</th>\n",
       "      <th>Transferência Especial</th>\n",
       "      <th>Categoria Econômica Despesa</th>\n",
       "      <th>Valor</th>\n",
       "    </tr>\n",
       "  </thead>\n",
       "  <tbody>\n",
       "    <tr>\n",
       "      <th>0</th>\n",
       "      <td>Nova Santa Rosa</td>\n",
       "      <td>PR</td>\n",
       "      <td>7979</td>\n",
       "      <td>4117222</td>\n",
       "      <td>42005</td>\n",
       "      <td>2015</td>\n",
       "      <td>janeiro</td>\n",
       "      <td>Município</td>\n",
       "      <td>135098000012015OB800001</td>\n",
       "      <td>77116663000109</td>\n",
       "      <td>MUNICIPIO DE NOVA SANTA ROSA</td>\n",
       "      <td>Emenda Individual</td>\n",
       "      <td>Não</td>\n",
       "      <td>DESPESAS DE CAPITAL</td>\n",
       "      <td>243750</td>\n",
       "    </tr>\n",
       "  </tbody>\n",
       "</table>\n",
       "</div>"
      ],
      "text/plain": [
       "         Nome Ente  UF Código Siafi  Código IBGE   Data   Ano      Mês  \\\n",
       "0  Nova Santa Rosa  PR         7979      4117222  42005  2015  janeiro   \n",
       "\n",
       "   Tipo Ente                       OB  CNPJ do Favorecido  \\\n",
       "0  Município  135098000012015OB800001      77116663000109   \n",
       "\n",
       "                Nome Favorecido        Nome Emenda Transferência Especial  \\\n",
       "0  MUNICIPIO DE NOVA SANTA ROSA  Emenda Individual                    Não   \n",
       "\n",
       "  Categoria Econômica Despesa   Valor  \n",
       "0         DESPESAS DE CAPITAL  243750  "
      ]
     },
     "execution_count": 6,
     "metadata": {},
     "output_type": "execute_result"
    }
   ],
   "source": [
    "example = df.head(1).copy()\n",
    "example"
   ]
  },
  {
   "cell_type": "markdown",
   "metadata": {},
   "source": [
    "> Checando se existem valores acima da casa dos milhões para a coluna 'Valor'."
   ]
  },
  {
   "cell_type": "code",
   "execution_count": 7,
   "metadata": {},
   "outputs": [
    {
     "data": {
      "text/plain": [
       "True"
      ]
     },
     "execution_count": 7,
     "metadata": {},
     "output_type": "execute_result"
    }
   ],
   "source": [
    "million_unit = 7\n",
    "(df['Valor'].apply(len) > million_unit).any()"
   ]
  },
  {
   "cell_type": "markdown",
   "metadata": {},
   "source": [
    "> Checando qual o tamanho máximo da string para 'Valor'."
   ]
  },
  {
   "cell_type": "code",
   "execution_count": 8,
   "metadata": {},
   "outputs": [
    {
     "data": {
      "text/plain": [
       "11"
      ]
     },
     "execution_count": 8,
     "metadata": {},
     "output_type": "execute_result"
    }
   ],
   "source": [
    "df['Comprimento'] = df['Valor'].apply(len)\n",
    "df['Comprimento'].max()"
   ]
  },
  {
   "cell_type": "markdown",
   "metadata": {},
   "source": [
    "> Obtendo valores de exemplo para os tamanhos."
   ]
  },
  {
   "cell_type": "code",
   "execution_count": 9,
   "metadata": {},
   "outputs": [
    {
     "data": {
      "text/html": [
       "<div>\n",
       "<style scoped>\n",
       "    .dataframe tbody tr th:only-of-type {\n",
       "        vertical-align: middle;\n",
       "    }\n",
       "\n",
       "    .dataframe tbody tr th {\n",
       "        vertical-align: top;\n",
       "    }\n",
       "\n",
       "    .dataframe thead th {\n",
       "        text-align: right;\n",
       "    }\n",
       "</style>\n",
       "<table border=\"1\" class=\"dataframe\">\n",
       "  <thead>\n",
       "    <tr style=\"text-align: right;\">\n",
       "      <th></th>\n",
       "      <th>Nome Ente</th>\n",
       "      <th>UF</th>\n",
       "      <th>Código Siafi</th>\n",
       "      <th>Código IBGE</th>\n",
       "      <th>Data</th>\n",
       "      <th>Ano</th>\n",
       "      <th>Mês</th>\n",
       "      <th>Tipo Ente</th>\n",
       "      <th>OB</th>\n",
       "      <th>CNPJ do Favorecido</th>\n",
       "      <th>Nome Favorecido</th>\n",
       "      <th>Nome Emenda</th>\n",
       "      <th>Transferência Especial</th>\n",
       "      <th>Categoria Econômica Despesa</th>\n",
       "      <th>Valor</th>\n",
       "      <th>Comprimento</th>\n",
       "    </tr>\n",
       "  </thead>\n",
       "  <tbody>\n",
       "    <tr>\n",
       "      <th>50025</th>\n",
       "      <td>Pernambuco</td>\n",
       "      <td>PE</td>\n",
       "      <td>PE</td>\n",
       "      <td>26</td>\n",
       "      <td>43070</td>\n",
       "      <td>2017</td>\n",
       "      <td>dezembro</td>\n",
       "      <td>Estado</td>\n",
       "      <td>530013000012017OB801718</td>\n",
       "      <td>10571982000125</td>\n",
       "      <td>ESTADO DE PERNAMBUCO</td>\n",
       "      <td>Emenda de Bancada</td>\n",
       "      <td>Não</td>\n",
       "      <td>DESPESAS DE CAPITAL</td>\n",
       "      <td>68217149,52</td>\n",
       "      <td>11</td>\n",
       "    </tr>\n",
       "    <tr>\n",
       "      <th>50026</th>\n",
       "      <td>Pernambuco</td>\n",
       "      <td>PE</td>\n",
       "      <td>PE</td>\n",
       "      <td>26</td>\n",
       "      <td>43070</td>\n",
       "      <td>2017</td>\n",
       "      <td>dezembro</td>\n",
       "      <td>Estado</td>\n",
       "      <td>530013000012017OB801848</td>\n",
       "      <td>10571982000125</td>\n",
       "      <td>ESTADO DE PERNAMBUCO</td>\n",
       "      <td>Emenda de Bancada</td>\n",
       "      <td>Não</td>\n",
       "      <td>DESPESAS DE CAPITAL</td>\n",
       "      <td>58132127,48</td>\n",
       "      <td>11</td>\n",
       "    </tr>\n",
       "    <tr>\n",
       "      <th>50921</th>\n",
       "      <td>Bahia</td>\n",
       "      <td>BA</td>\n",
       "      <td>BA</td>\n",
       "      <td>29</td>\n",
       "      <td>43160</td>\n",
       "      <td>2018</td>\n",
       "      <td>março</td>\n",
       "      <td>Estado</td>\n",
       "      <td>135098000012018OB800139</td>\n",
       "      <td>13937057000163</td>\n",
       "      <td>SECRETARIA DA AGRICULTURA, PECUARIA, IRRIGACAO...</td>\n",
       "      <td>Emenda de Bancada</td>\n",
       "      <td>Não</td>\n",
       "      <td>DESPESAS DE CAPITAL</td>\n",
       "      <td>61575657,97</td>\n",
       "      <td>11</td>\n",
       "    </tr>\n",
       "    <tr>\n",
       "      <th>50932</th>\n",
       "      <td>Rio Grande do Sul</td>\n",
       "      <td>RS</td>\n",
       "      <td>RS</td>\n",
       "      <td>43</td>\n",
       "      <td>43160</td>\n",
       "      <td>2018</td>\n",
       "      <td>março</td>\n",
       "      <td>Estado</td>\n",
       "      <td>135098000012018OB800154</td>\n",
       "      <td>93021632000112</td>\n",
       "      <td>SECRETARIA DE AGRICULTURA, PECUARIA E DESENVOL...</td>\n",
       "      <td>Emenda de Bancada</td>\n",
       "      <td>Não</td>\n",
       "      <td>DESPESAS DE CAPITAL</td>\n",
       "      <td>18779613,45</td>\n",
       "      <td>11</td>\n",
       "    </tr>\n",
       "    <tr>\n",
       "      <th>61972</th>\n",
       "      <td>Goiás</td>\n",
       "      <td>GO</td>\n",
       "      <td>GO</td>\n",
       "      <td>52</td>\n",
       "      <td>43252</td>\n",
       "      <td>2018</td>\n",
       "      <td>junho</td>\n",
       "      <td>Estado</td>\n",
       "      <td>135098000012018OB800672</td>\n",
       "      <td>21652711000110</td>\n",
       "      <td>SECRETARIA DE ESTADO DE DESENVOLVIMENTO E INOV...</td>\n",
       "      <td>Emenda de Bancada</td>\n",
       "      <td>Não</td>\n",
       "      <td>DESPESAS DE CAPITAL</td>\n",
       "      <td>82323934,88</td>\n",
       "      <td>11</td>\n",
       "    </tr>\n",
       "  </tbody>\n",
       "</table>\n",
       "</div>"
      ],
      "text/plain": [
       "               Nome Ente  UF Código Siafi  Código IBGE   Data   Ano       Mês  \\\n",
       "50025         Pernambuco  PE           PE           26  43070  2017  dezembro   \n",
       "50026         Pernambuco  PE           PE           26  43070  2017  dezembro   \n",
       "50921              Bahia  BA           BA           29  43160  2018     março   \n",
       "50932  Rio Grande do Sul  RS           RS           43  43160  2018     março   \n",
       "61972              Goiás  GO           GO           52  43252  2018     junho   \n",
       "\n",
       "      Tipo Ente                       OB  CNPJ do Favorecido  \\\n",
       "50025    Estado  530013000012017OB801718      10571982000125   \n",
       "50026    Estado  530013000012017OB801848      10571982000125   \n",
       "50921    Estado  135098000012018OB800139      13937057000163   \n",
       "50932    Estado  135098000012018OB800154      93021632000112   \n",
       "61972    Estado  135098000012018OB800672      21652711000110   \n",
       "\n",
       "                                         Nome Favorecido        Nome Emenda  \\\n",
       "50025                               ESTADO DE PERNAMBUCO  Emenda de Bancada   \n",
       "50026                               ESTADO DE PERNAMBUCO  Emenda de Bancada   \n",
       "50921  SECRETARIA DA AGRICULTURA, PECUARIA, IRRIGACAO...  Emenda de Bancada   \n",
       "50932  SECRETARIA DE AGRICULTURA, PECUARIA E DESENVOL...  Emenda de Bancada   \n",
       "61972  SECRETARIA DE ESTADO DE DESENVOLVIMENTO E INOV...  Emenda de Bancada   \n",
       "\n",
       "      Transferência Especial Categoria Econômica Despesa        Valor  \\\n",
       "50025                    Não         DESPESAS DE CAPITAL  68217149,52   \n",
       "50026                    Não         DESPESAS DE CAPITAL  58132127,48   \n",
       "50921                    Não         DESPESAS DE CAPITAL  61575657,97   \n",
       "50932                    Não         DESPESAS DE CAPITAL  18779613,45   \n",
       "61972                    Não         DESPESAS DE CAPITAL  82323934,88   \n",
       "\n",
       "       Comprimento  \n",
       "50025           11  \n",
       "50026           11  \n",
       "50921           11  \n",
       "50932           11  \n",
       "61972           11  "
      ]
     },
     "execution_count": 9,
     "metadata": {},
     "output_type": "execute_result"
    }
   ],
   "source": [
    "max_length = 11\n",
    "filtered = df[df['Comprimento'] == max_length]\n",
    "filtered.head()"
   ]
  },
  {
   "cell_type": "markdown",
   "metadata": {},
   "source": [
    "> Observou-se uma inconsistência nos dados, na qual alguns valores apresentam precisão até os centavos, enquanto outros não mantêm a mesma precisão decimal para valores na mesma casa decimal.\n",
    "- 68217149,52 (tamanho 11)\n",
    "- 1470678,32 (tamanho 10)\n",
    "- 872142,22 (tamanho 9)\n",
    "- 203528,5 (tamanho 8)\n",
    "- 1358175 (tamanho 7)\n",
    "- 89035,5 (tamanho 7)"
   ]
  },
  {
   "cell_type": "markdown",
   "metadata": {},
   "source": [
    "## **Geração de Sentenças**"
   ]
  },
  {
   "cell_type": "code",
   "execution_count": 10,
   "metadata": {},
   "outputs": [],
   "source": [
    "def generate_sentence(data):\n",
    "    sentence = (\n",
    "        f\"Em {data['Mês']} de {data['Ano']}, o {data['Tipo Ente']} de {data['Nome Ente']} - {data['UF']}, \"\n",
    "        f\"com o código Siafi {data['Código Siafi']} e o código IBGE {data['Código IBGE']}, \"\n",
    "        f\"recebeu uma transferência no valor de R$ {data['Valor']}. A {data['Nome Emenda']} \"\n",
    "        f\"parlamentar classificada como {data['Categoria Econômica Despesa']} teve como favorecido \"\n",
    "        f\"o CNPJ {data['CNPJ do Favorecido']}, identificado pelo nome {data['Nome Favorecido']} \"\n",
    "        f\"com a ordem bancária {data['OB']}.\"\n",
    "    )\n",
    "    return sentence"
   ]
  },
  {
   "cell_type": "code",
   "execution_count": 11,
   "metadata": {},
   "outputs": [
    {
     "data": {
      "text/html": [
       "<div>\n",
       "<style scoped>\n",
       "    .dataframe tbody tr th:only-of-type {\n",
       "        vertical-align: middle;\n",
       "    }\n",
       "\n",
       "    .dataframe tbody tr th {\n",
       "        vertical-align: top;\n",
       "    }\n",
       "\n",
       "    .dataframe thead th {\n",
       "        text-align: right;\n",
       "    }\n",
       "</style>\n",
       "<table border=\"1\" class=\"dataframe\">\n",
       "  <thead>\n",
       "    <tr style=\"text-align: right;\">\n",
       "      <th></th>\n",
       "      <th>Nome Ente</th>\n",
       "      <th>UF</th>\n",
       "      <th>Código Siafi</th>\n",
       "      <th>Código IBGE</th>\n",
       "      <th>Data</th>\n",
       "      <th>Ano</th>\n",
       "      <th>Mês</th>\n",
       "      <th>Tipo Ente</th>\n",
       "      <th>OB</th>\n",
       "      <th>CNPJ do Favorecido</th>\n",
       "      <th>Nome Favorecido</th>\n",
       "      <th>Nome Emenda</th>\n",
       "      <th>Transferência Especial</th>\n",
       "      <th>Categoria Econômica Despesa</th>\n",
       "      <th>Valor</th>\n",
       "      <th>Comprimento</th>\n",
       "    </tr>\n",
       "  </thead>\n",
       "  <tbody>\n",
       "    <tr>\n",
       "      <th>0</th>\n",
       "      <td>Nova Santa Rosa</td>\n",
       "      <td>PR</td>\n",
       "      <td>7979</td>\n",
       "      <td>4117222</td>\n",
       "      <td>42005</td>\n",
       "      <td>2015</td>\n",
       "      <td>janeiro</td>\n",
       "      <td>Município</td>\n",
       "      <td>135098000012015OB800001</td>\n",
       "      <td>77116663000109</td>\n",
       "      <td>MUNICIPIO DE NOVA SANTA ROSA</td>\n",
       "      <td>Emenda Individual</td>\n",
       "      <td>Não</td>\n",
       "      <td>DESPESAS DE CAPITAL</td>\n",
       "      <td>243750</td>\n",
       "      <td>6</td>\n",
       "    </tr>\n",
       "  </tbody>\n",
       "</table>\n",
       "</div>"
      ],
      "text/plain": [
       "         Nome Ente  UF Código Siafi  Código IBGE   Data   Ano      Mês  \\\n",
       "0  Nova Santa Rosa  PR         7979      4117222  42005  2015  janeiro   \n",
       "\n",
       "   Tipo Ente                       OB  CNPJ do Favorecido  \\\n",
       "0  Município  135098000012015OB800001      77116663000109   \n",
       "\n",
       "                Nome Favorecido        Nome Emenda Transferência Especial  \\\n",
       "0  MUNICIPIO DE NOVA SANTA ROSA  Emenda Individual                    Não   \n",
       "\n",
       "  Categoria Econômica Despesa   Valor  Comprimento  \n",
       "0         DESPESAS DE CAPITAL  243750            6  "
      ]
     },
     "execution_count": 11,
     "metadata": {},
     "output_type": "execute_result"
    }
   ],
   "source": [
    "df.head(1)"
   ]
  },
  {
   "cell_type": "markdown",
   "metadata": {},
   "source": [
    "\"Em **janeiro** de **2015**, o **Município** de **Nova Santa Rosa** - **PR**, com o código Siafi **7979** e o código IBGE **4117222**, recebeu uma transferência no valor de R$ **243750**. A **Emenda Individual** parlamentar classificada como **DESPESAS DE CAPITAL** teve como favorecido o CNPJ **77116663000109**, identificado pelo nome **MUNICIPIO DE NOVA SANTA ROSA** com a ordem bancária **135098000012015OB800001**.\"\n"
   ]
  },
  {
   "cell_type": "code",
   "execution_count": 12,
   "metadata": {},
   "outputs": [
    {
     "name": "stdout",
     "output_type": "stream",
     "text": [
      "Em janeiro de 2015, o Município de Nova Santa Rosa - PR, com o código Siafi 7979 e o código IBGE 4117222, recebeu uma transferência no valor de R$ 243750. A Emenda Individual parlamentar classificada como DESPESAS DE CAPITAL teve como favorecido o CNPJ 77116663000109, identificado pelo nome MUNICIPIO DE NOVA SANTA ROSA com a ordem bancária 135098000012015OB800001.\n"
     ]
    }
   ],
   "source": [
    "print(generate_sentence(df.iloc[0]))"
   ]
  },
  {
   "cell_type": "code",
   "execution_count": 13,
   "metadata": {},
   "outputs": [],
   "source": [
    "sentences = df.apply(generate_sentence, axis=1).to_list()"
   ]
  },
  {
   "cell_type": "code",
   "execution_count": 14,
   "metadata": {},
   "outputs": [
    {
     "data": {
      "text/plain": [
       "'Em janeiro de 2015, o Município de Humaitá - RS, com o código Siafi 8695 e o código IBGE 4309704, recebeu uma transferência no valor de R$ 144300. A Emenda Individual parlamentar classificada como DESPESAS DE CAPITAL teve como favorecido o CNPJ 87613139000199, identificado pelo nome MUNICIPIO DE HUMAITA com a ordem bancária 135098000012015OB800002.'"
      ]
     },
     "execution_count": 14,
     "metadata": {},
     "output_type": "execute_result"
    }
   ],
   "source": [
    "sentences[1]"
   ]
  },
  {
   "cell_type": "markdown",
   "metadata": {},
   "source": [
    "## **Tokenização e Geração de Embeddings**"
   ]
  },
  {
   "cell_type": "code",
   "execution_count": 15,
   "metadata": {},
   "outputs": [
    {
     "data": {
      "text/plain": [
       "(295473, 16)"
      ]
     },
     "execution_count": 15,
     "metadata": {},
     "output_type": "execute_result"
    }
   ],
   "source": [
    "df.shape"
   ]
  },
  {
   "cell_type": "markdown",
   "metadata": {},
   "source": [
    "> O conjunto de dados original possui 295.473 registros, contudo, serão utilizados somente 200 registros para fins de teste dada a limitação de recursos computacionais."
   ]
  },
  {
   "cell_type": "code",
   "execution_count": 16,
   "metadata": {},
   "outputs": [
    {
     "data": {
      "text/plain": [
       "(200, 16)"
      ]
     },
     "execution_count": 16,
     "metadata": {},
     "output_type": "execute_result"
    }
   ],
   "source": [
    "# df_reduced = df[df['Ano'] == 2015].copy()\n",
    "df_reduced = df.head(200)\n",
    "df_reduced.shape"
   ]
  },
  {
   "cell_type": "code",
   "execution_count": 21,
   "metadata": {},
   "outputs": [],
   "source": [
    "sentences = df_reduced.apply(generate_sentence, axis=1).to_list()"
   ]
  },
  {
   "cell_type": "code",
   "execution_count": 23,
   "metadata": {},
   "outputs": [
    {
     "name": "stderr",
     "output_type": "stream",
     "text": [
      "c:\\Users\\anycs\\Documents\\MATERIAL_11_PERIODO\\PLN\\PLN_2024_Silva_Any\\venv\\Lib\\site-packages\\tqdm\\auto.py:21: TqdmWarning: IProgress not found. Please update jupyter and ipywidgets. See https://ipywidgets.readthedocs.io/en/stable/user_install.html\n",
      "  from .autonotebook import tqdm as notebook_tqdm\n",
      "Asking to truncate to max_length but no maximum length is provided and the model has no predefined maximum length. Default to no truncation.\n"
     ]
    },
    {
     "name": "stdout",
     "output_type": "stream",
     "text": [
      "Sentence embeddings:\n",
      "tensor([[ 0.0906,  0.0222, -0.3287,  ..., -0.3361, -0.0442, -0.2088],\n",
      "        [ 0.1522, -0.0785, -0.5665,  ..., -0.4697, -0.1172, -0.1869],\n",
      "        [ 0.1000, -0.2098, -0.4692,  ..., -0.6447, -0.0565, -0.2953],\n",
      "        ...,\n",
      "        [ 0.0521, -0.1203, -0.4209,  ..., -0.3549, -0.0737, -0.0823],\n",
      "        [ 0.0604, -0.1247, -0.4317,  ..., -0.3636, -0.0848, -0.0931],\n",
      "        [ 0.0656, -0.1519, -0.3773,  ..., -0.3696, -0.0764, -0.0481]])\n"
     ]
    }
   ],
   "source": [
    "from transformers import AutoTokenizer, AutoModel\n",
    "import torch\n",
    "\n",
    "\n",
    "#Mean Pooling - Take attention mask into account for correct averaging\n",
    "def mean_pooling(model_output, attention_mask):\n",
    "    token_embeddings = model_output[0] #First element of model_output contains all token embeddings\n",
    "    input_mask_expanded = attention_mask.unsqueeze(-1).expand(token_embeddings.size()).float()\n",
    "    return torch.sum(token_embeddings * input_mask_expanded, 1) / torch.clamp(input_mask_expanded.sum(1), min=1e-9)\n",
    "\n",
    "# Load model from HuggingFace Hub\n",
    "tokenizer = AutoTokenizer.from_pretrained('rufimelo/Legal-BERTimbau-sts-base-ma-v2')\n",
    "model = AutoModel.from_pretrained('rufimelo/Legal-BERTimbau-sts-base-ma-v2')\n",
    "\n",
    "# Tokenize sentences\n",
    "encoded_input = tokenizer(sentences, padding=True, truncation=True, return_tensors='pt')\n",
    "\n",
    "# Compute token embeddings\n",
    "with torch.no_grad():\n",
    "    model_output = model(**encoded_input)\n",
    "\n",
    "# Perform pooling. In this case, mean pooling.\n",
    "sentence_embeddings = mean_pooling(model_output, encoded_input['attention_mask'])\n",
    "\n",
    "print(\"Sentence embeddings:\")\n",
    "print(sentence_embeddings)"
   ]
  },
  {
   "cell_type": "code",
   "execution_count": 24,
   "metadata": {},
   "outputs": [
    {
     "data": {
      "text/plain": [
       "torch.Size([200, 768])"
      ]
     },
     "execution_count": 24,
     "metadata": {},
     "output_type": "execute_result"
    }
   ],
   "source": [
    "sentence_embeddings.size()"
   ]
  },
  {
   "cell_type": "markdown",
   "metadata": {},
   "source": [
    "## Criaçã"
   ]
  }
 ],
 "metadata": {
  "kernelspec": {
   "display_name": "Python 3",
   "language": "python",
   "name": "python3"
  },
  "language_info": {
   "codemirror_mode": {
    "name": "ipython",
    "version": 3
   },
   "file_extension": ".py",
   "mimetype": "text/x-python",
   "name": "python",
   "nbconvert_exporter": "python",
   "pygments_lexer": "ipython3",
   "version": "3.11.2"
  }
 },
 "nbformat": 4,
 "nbformat_minor": 2
}
